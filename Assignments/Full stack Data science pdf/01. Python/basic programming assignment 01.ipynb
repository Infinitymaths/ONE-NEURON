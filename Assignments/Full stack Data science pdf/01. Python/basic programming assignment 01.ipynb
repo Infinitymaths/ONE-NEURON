{
 "cells": [
  {
   "cell_type": "markdown",
   "id": "84537598",
   "metadata": {},
   "source": [
    "# Programming assignment 1"
   ]
  },
  {
   "cell_type": "markdown",
   "id": "9720985c",
   "metadata": {},
   "source": [
    "## 1.Write a Python program to print \"Hello Python\"?"
   ]
  },
  {
   "cell_type": "code",
   "execution_count": 1,
   "id": "44bf8d8e",
   "metadata": {},
   "outputs": [
    {
     "name": "stdout",
     "output_type": "stream",
     "text": [
      "Hello Python\n"
     ]
    }
   ],
   "source": [
    "print(\"Hello Python\")"
   ]
  },
  {
   "cell_type": "markdown",
   "id": "e2387095",
   "metadata": {},
   "source": [
    "## 2.\tWrite a Python program to do arithmetical operations addition and division.?"
   ]
  },
  {
   "cell_type": "code",
   "execution_count": 2,
   "id": "f5c09e04",
   "metadata": {},
   "outputs": [
    {
     "name": "stdout",
     "output_type": "stream",
     "text": [
      "enter the number: 2\n",
      "enter the 2nd number: 3\n",
      "addition is: 5\n",
      "Multiplication is: 6\n"
     ]
    }
   ],
   "source": [
    "n = int(input(\"enter the number: \"))\n",
    "m = int(input(\"enter the 2nd number: \"))\n",
    "print(\"addition is: \"+str(n+m))\n",
    "print(\"Multiplication is: \"+str(n*m))"
   ]
  },
  {
   "cell_type": "markdown",
   "id": "281f8fd1",
   "metadata": {},
   "source": [
    "## 3.\tWrite a Python program to find the area of a triangle?"
   ]
  },
  {
   "cell_type": "code",
   "execution_count": 5,
   "id": "02b0e0e7",
   "metadata": {},
   "outputs": [
    {
     "name": "stdout",
     "output_type": "stream",
     "text": [
      "Enter the first side:- 3\n",
      "Enter the second side:- 4\n",
      "Enter the third sideL- 5\n",
      "Area of Triangle is 6.000\n"
     ]
    }
   ],
   "source": [
    "#calculate the area using the formula sqrt(s*(s-a)*(s-b)*(s-c)) where is the semi-perimeter \n",
    "#Taking the input of three sides\n",
    "side1 = float(input(\"Enter the first side:- \")) #float function because input take the value as string by default\n",
    "side2 = float(input(\"Enter the second side:- \"))\n",
    "side3 = float(input(\"Enter the third sideL- \"))\n",
    "\n",
    "#findiing the semi-perimenter \n",
    "s = (side1+side2+side3)/2\n",
    "\n",
    "#calculate the are\n",
    "area = (s*(s-side1)*(s-side2)*(s-side3))**0.5\n",
    "\n",
    "#printing the area of triangle\n",
    "print(\"Area of Triangle is %0.3f\"%area)"
   ]
  },
  {
   "cell_type": "markdown",
   "id": "ff324519",
   "metadata": {},
   "source": [
    "## 4.\tWrite a Python program to swap two variables?"
   ]
  },
  {
   "cell_type": "code",
   "execution_count": 6,
   "id": "bdf67b73",
   "metadata": {},
   "outputs": [
    {
     "name": "stdout",
     "output_type": "stream",
     "text": [
      "enter the first number:- 5\n",
      "enter the second number:- 6\n",
      "before swapping\n",
      "first number5\n",
      "second number6\n",
      "after swapping\n",
      "first number6\n",
      "second number5\n"
     ]
    }
   ],
   "source": [
    "m = int(input(\"enter the first number:- \"))\n",
    "n = int(input(\"enter the second number:- \"))\n",
    "print(\"before swapping\")\n",
    "print(\"first number\"+str(m))\n",
    "print(\"second number\"+str(n))\n",
    "m,n = n,m\n",
    "print(\"after swapping\")\n",
    "print(\"first number\"+str(m))\n",
    "print(\"second number\"+str(n))"
   ]
  },
  {
   "cell_type": "markdown",
   "id": "18680dfd",
   "metadata": {},
   "source": [
    "## 5.\tWrite a Python program to generate a random number?"
   ]
  },
  {
   "cell_type": "code",
   "execution_count": 32,
   "id": "1a9344ac",
   "metadata": {},
   "outputs": [
    {
     "name": "stdout",
     "output_type": "stream",
     "text": [
      "0.7367289630260302\n"
     ]
    }
   ],
   "source": [
    "import random\n",
    "print(random.random())"
   ]
  },
  {
   "cell_type": "code",
   "execution_count": null,
   "id": "183db049",
   "metadata": {},
   "outputs": [],
   "source": []
  }
 ],
 "metadata": {
  "kernelspec": {
   "display_name": "Python 3 (ipykernel)",
   "language": "python",
   "name": "python3"
  },
  "language_info": {
   "codemirror_mode": {
    "name": "ipython",
    "version": 3
   },
   "file_extension": ".py",
   "mimetype": "text/x-python",
   "name": "python",
   "nbconvert_exporter": "python",
   "pygments_lexer": "ipython3",
   "version": "3.9.7"
  }
 },
 "nbformat": 4,
 "nbformat_minor": 5
}
