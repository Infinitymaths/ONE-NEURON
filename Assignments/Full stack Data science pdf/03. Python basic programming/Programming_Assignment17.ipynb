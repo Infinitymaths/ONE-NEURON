{
 "cells": [
  {
   "cell_type": "markdown",
   "id": "be50bdae-25d2-4c74-bea5-9a8f49ee7697",
   "metadata": {},
   "source": [
    "# <center> Programming Assignment 17 </center>"
   ]
  },
  {
   "cell_type": "markdown",
   "id": "1b511a4f-dee9-4ae9-a2cf-deda73cb022e",
   "metadata": {},
   "source": [
    "# Question1. Create a function that takes three arguments a, b, c and returns the sum of the numbers that are evenly divided by c from the range a, b inclusive.\n",
    "##### Examples\n",
    "###### evenly_divisible(1, 10, 20) ➞ 0\n",
    "##### No number between 1 and 10 can be evenly divided by 20.\n",
    "\n",
    "##### evenly_divisible(1, 10, 2) ➞ 30\n",
    "##### 2 + 4 + 6 + 8 + 10 = 30\n",
    "\n",
    "##### evenly_divisible(1, 10, 3) ➞ 18\n",
    "##### 3 + 6 + 9 = 18\n"
   ]
  },
  {
   "cell_type": "code",
   "execution_count": 5,
   "id": "187b4911-ef1d-42c0-974f-557d6cf78460",
   "metadata": {},
   "outputs": [
    {
     "name": "stdin",
     "output_type": "stream",
     "text": [
      " 1 10 20\n"
     ]
    },
    {
     "name": "stdout",
     "output_type": "stream",
     "text": [
      "0\n"
     ]
    }
   ],
   "source": [
    "def evenly_divisible(a,b,c):\n",
    "    sum = 0\n",
    "    for i in range(a,b+1):\n",
    "        if i%c==0:\n",
    "            sum +=i\n",
    "        else:\n",
    "            sum = 0\n",
    "    print(sum)\n",
    "\n",
    "a,b,c = list(map(int, input().split()))\n",
    "evenly_divisible(a,b,c)"
   ]
  },
  {
   "cell_type": "markdown",
   "id": "d470f691-b421-4c05-aa51-83544751ee0a",
   "metadata": {},
   "source": [
    "# Question2. Create a function that returns True if a given inequality expression is correct and False otherwise.\n",
    "###### Examples\n",
    "correct_signs(\"3 < 7 < 11\") ➞ True\n",
    "\n",
    "correct_signs(\"13 > 44 > 33 > 1\") ➞ False\n",
    "\n",
    "correct_signs(\"1 < 2 < 6 < 9 > 3\") ➞ True\n"
   ]
  },
  {
   "cell_type": "code",
   "execution_count": 11,
   "id": "4c9b1fb1-3db3-4c46-943d-3d7ec173658c",
   "metadata": {},
   "outputs": [
    {
     "name": "stdin",
     "output_type": "stream",
     "text": [
      " 1 < 2 < 6 < 9 > 3\n"
     ]
    },
    {
     "name": "stdout",
     "output_type": "stream",
     "text": [
      "True\n"
     ]
    }
   ],
   "source": [
    "def evaluation(expression):\n",
    "    return eval(expression)\n",
    "\n",
    "expression = input()\n",
    "print(evaluation(expression))"
   ]
  },
  {
   "cell_type": "markdown",
   "id": "aa5584b2-dd12-4faf-9ae8-caf24e6d516c",
   "metadata": {},
   "source": [
    "# Question3. Create a function that replaces all the vowels in a string with a specified character.\n",
    "###### Examples\n",
    "replace_vowels(\"the aardvark\", \"#\") ➞ \"th# ##rdv#rk\"\n",
    "\n",
    "replace_vowels(\"minnie mouse\", \"?\") ➞ \"m?nn?? m??s?\"\n",
    "\n",
    "replace_vowels(\"shakespeare\", \"*\") ➞ \"sh*k*sp**r*\"\n"
   ]
  },
  {
   "cell_type": "code",
   "execution_count": 14,
   "id": "57fb71a4-7dcc-4693-988f-f20e3da7a316",
   "metadata": {},
   "outputs": [
    {
     "name": "stdin",
     "output_type": "stream",
     "text": [
      "Enter the word:-  the aardvark\n",
      "Enter the character to be replaced with:-  #\n"
     ]
    },
    {
     "name": "stdout",
     "output_type": "stream",
     "text": [
      "th# ##rdv#rk\n"
     ]
    }
   ],
   "source": [
    "def replace_vowels(word,k):\n",
    "    vowels = 'AEIOUaeiou'\n",
    "    \n",
    "    for ele in vowels:\n",
    "        word = word.replace(ele,k)\n",
    "    return word\n",
    "\n",
    "word = input(\"Enter the word:- \")\n",
    "k = input(\"Enter the character to be replaced with:- \")\n",
    "ans = replace_vowels(word,k)\n",
    "print(ans)"
   ]
  },
  {
   "cell_type": "markdown",
   "id": "ea332a91-d9db-400b-9bf8-50b4491b6d2c",
   "metadata": {},
   "source": [
    "# Question4. Write a function that calculates the factorial of a number recursively.\n",
    "##### Examples\n",
    "factorial(5) ➞ 120\n",
    "\n",
    "factorial(3) ➞ 6\n",
    "\n",
    "factorial(1) ➞ 1\n",
    "\n",
    "factorial(0) ➞ 1\n"
   ]
  },
  {
   "cell_type": "code",
   "execution_count": 15,
   "id": "cc03da44-e550-4f0b-bc9c-e6ed7c05b135",
   "metadata": {},
   "outputs": [
    {
     "name": "stdin",
     "output_type": "stream",
     "text": [
      " 5\n"
     ]
    },
    {
     "name": "stdout",
     "output_type": "stream",
     "text": [
      "120\n"
     ]
    }
   ],
   "source": [
    "def factorial(number):\n",
    "    if number==0:\n",
    "        return 1\n",
    "    elif number==1:\n",
    "        return 1\n",
    "    else:\n",
    "        return number*factorial(number-1)\n",
    "\n",
    "number = int(input())\n",
    "print(factorial(number))"
   ]
  },
  {
   "cell_type": "markdown",
   "id": "b00f7c3c-5357-4db3-bc9b-8a8c698a1772",
   "metadata": {},
   "source": [
    "# Question 5\n",
    "###### Hamming distance is the number of characters that differ between two strings.\n",
    "###### To illustrate:\n",
    "###### String1: \"abcbba\"\n",
    "###### String2: \"abcbda\"\n",
    "\n",
    "###### Hamming Distance: 1 - \"b\" vs. \"d\" is the only difference.\n",
    "###### Create a function that computes the hamming distance between two strings.\n",
    "###### Examples\n",
    "###### hamming_distance(\"abcde\", \"bcdef\") ➞ 5\n",
    "###### hamming_distance(\"abcde\", \"abcde\") ➞ 0\n",
    "###### hamming_distance(\"strong\", \"strung\") ➞ 1"
   ]
  },
  {
   "cell_type": "code",
   "execution_count": 16,
   "id": "79718b8b-5b6a-4085-84e4-ddb85474f98a",
   "metadata": {},
   "outputs": [
    {
     "name": "stdin",
     "output_type": "stream",
     "text": [
      " strong\n",
      " strung\n"
     ]
    },
    {
     "name": "stdout",
     "output_type": "stream",
     "text": [
      "1\n"
     ]
    }
   ],
   "source": [
    "def hamming_distance(str1,str2):\n",
    "    i = 0\n",
    "    count = 0\n",
    "    while(i<len(str1)):\n",
    "        if(str1[i]!=str2[i]):\n",
    "            count+=1\n",
    "        i+=1\n",
    "    return count\n",
    "\n",
    "str1 = input()\n",
    "str2 = input()\n",
    "\n",
    "print(hamming_distance(str1,str2))"
   ]
  },
  {
   "cell_type": "markdown",
   "id": "00fe3fa2-54fc-44d8-84fd-d76ae611577c",
   "metadata": {},
   "source": [
    "<center><h1>End of the Code</h1></center>"
   ]
  },
  {
   "cell_type": "code",
   "execution_count": null,
   "id": "b56dd98a-86d3-4484-bcb7-11f2eb897c88",
   "metadata": {},
   "outputs": [],
   "source": []
  }
 ],
 "metadata": {
  "kernelspec": {
   "display_name": "Python 3 (ipykernel)",
   "language": "python",
   "name": "python3"
  },
  "language_info": {
   "codemirror_mode": {
    "name": "ipython",
    "version": 3
   },
   "file_extension": ".py",
   "mimetype": "text/x-python",
   "name": "python",
   "nbconvert_exporter": "python",
   "pygments_lexer": "ipython3",
   "version": "3.9.12"
  }
 },
 "nbformat": 4,
 "nbformat_minor": 5
}
