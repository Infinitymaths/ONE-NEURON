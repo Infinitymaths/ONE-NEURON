{
 "cells": [
  {
   "cell_type": "markdown",
   "id": "aa947131",
   "metadata": {},
   "source": [
    "# Programming assignment 2"
   ]
  },
  {
   "cell_type": "markdown",
   "id": "5be76af8",
   "metadata": {},
   "source": [
    "## 1. Write a Python Program to convert Kilometer to miles"
   ]
  },
  {
   "cell_type": "code",
   "execution_count": 2,
   "id": "52bfe1ff",
   "metadata": {},
   "outputs": [
    {
     "name": "stdout",
     "output_type": "stream",
     "text": [
      "Enter the distance in Kilometers:- 30\n",
      "30.00 kilometers is equal to 18.64 miles\n"
     ]
    }
   ],
   "source": [
    "distance = float(input(\"Enter the distance in Kilometers:- \"))\n",
    "result = distance*0.621371\n",
    "print(\"%0.2f kilometers is equal to %0.2f miles\"%(distance,result))"
   ]
  },
  {
   "cell_type": "markdown",
   "id": "f10e6229",
   "metadata": {},
   "source": [
    "## 2.\tWrite a Python program to convert Celsius to Fahrenheit?"
   ]
  },
  {
   "cell_type": "code",
   "execution_count": 4,
   "id": "6e23861c",
   "metadata": {},
   "outputs": [
    {
     "name": "stdout",
     "output_type": "stream",
     "text": [
      "Enter the temperature in celsius30\n",
      "30.0 degree celsius is equal to 86.0 degree fahrenheit\n"
     ]
    }
   ],
   "source": [
    "temperature = float(input(\"Enter the temperature in celsius\"))\n",
    "result = (temperature*1.8)+32\n",
    "\n",
    "print('%0.1f degree celsius is equal to %0.1f degree fahrenheit'%(temperature,result))"
   ]
  },
  {
   "cell_type": "markdown",
   "id": "4e54506c",
   "metadata": {},
   "source": [
    "## 3.\tWrite a Python program to display calendar?"
   ]
  },
  {
   "cell_type": "code",
   "execution_count": 8,
   "id": "b51d7eb5",
   "metadata": {},
   "outputs": [
    {
     "name": "stdout",
     "output_type": "stream",
     "text": [
      "Enter the year of the calendar:- 2022\n",
      "Enter the month if needed or else put 0:- 0\n",
      "                                  2022\n",
      "\n",
      "      January                   February                   March\n",
      "Mo Tu We Th Fr Sa Su      Mo Tu We Th Fr Sa Su      Mo Tu We Th Fr Sa Su\n",
      "                1  2          1  2  3  4  5  6          1  2  3  4  5  6\n",
      " 3  4  5  6  7  8  9       7  8  9 10 11 12 13       7  8  9 10 11 12 13\n",
      "10 11 12 13 14 15 16      14 15 16 17 18 19 20      14 15 16 17 18 19 20\n",
      "17 18 19 20 21 22 23      21 22 23 24 25 26 27      21 22 23 24 25 26 27\n",
      "24 25 26 27 28 29 30      28                        28 29 30 31\n",
      "31\n",
      "\n",
      "       April                      May                       June\n",
      "Mo Tu We Th Fr Sa Su      Mo Tu We Th Fr Sa Su      Mo Tu We Th Fr Sa Su\n",
      "             1  2  3                         1             1  2  3  4  5\n",
      " 4  5  6  7  8  9 10       2  3  4  5  6  7  8       6  7  8  9 10 11 12\n",
      "11 12 13 14 15 16 17       9 10 11 12 13 14 15      13 14 15 16 17 18 19\n",
      "18 19 20 21 22 23 24      16 17 18 19 20 21 22      20 21 22 23 24 25 26\n",
      "25 26 27 28 29 30         23 24 25 26 27 28 29      27 28 29 30\n",
      "                          30 31\n",
      "\n",
      "        July                     August                  September\n",
      "Mo Tu We Th Fr Sa Su      Mo Tu We Th Fr Sa Su      Mo Tu We Th Fr Sa Su\n",
      "             1  2  3       1  2  3  4  5  6  7                1  2  3  4\n",
      " 4  5  6  7  8  9 10       8  9 10 11 12 13 14       5  6  7  8  9 10 11\n",
      "11 12 13 14 15 16 17      15 16 17 18 19 20 21      12 13 14 15 16 17 18\n",
      "18 19 20 21 22 23 24      22 23 24 25 26 27 28      19 20 21 22 23 24 25\n",
      "25 26 27 28 29 30 31      29 30 31                  26 27 28 29 30\n",
      "\n",
      "      October                   November                  December\n",
      "Mo Tu We Th Fr Sa Su      Mo Tu We Th Fr Sa Su      Mo Tu We Th Fr Sa Su\n",
      "                1  2          1  2  3  4  5  6                1  2  3  4\n",
      " 3  4  5  6  7  8  9       7  8  9 10 11 12 13       5  6  7  8  9 10 11\n",
      "10 11 12 13 14 15 16      14 15 16 17 18 19 20      12 13 14 15 16 17 18\n",
      "17 18 19 20 21 22 23      21 22 23 24 25 26 27      19 20 21 22 23 24 25\n",
      "24 25 26 27 28 29 30      28 29 30                  26 27 28 29 30 31\n",
      "31\n",
      "\n"
     ]
    }
   ],
   "source": [
    "import calendar\n",
    "def print_calendar(yy,mm=0):\n",
    "    if mm==0:\n",
    "        print(calendar.calendar(yy))\n",
    "    else:\n",
    "        print(calendar.month(yy,mm))\n",
    "\n",
    "yy = int(input(\"Enter the year of the calendar:- \"))\n",
    "mm = int(input(\"Enter the month if needed or else put 0:- \"))\n",
    "print_calendar(yy,mm)"
   ]
  },
  {
   "cell_type": "markdown",
   "id": "4af0a275",
   "metadata": {},
   "source": [
    "## 4.\tWrite a Python program to solve quadratic equation?"
   ]
  },
  {
   "cell_type": "code",
   "execution_count": 10,
   "id": "e5702165",
   "metadata": {},
   "outputs": [
    {
     "name": "stdout",
     "output_type": "stream",
     "text": [
      "Enter the first number:- 1\n",
      "Enter the second number:- 2\n",
      "Enter the third number:- 1\n",
      "The solution are (-1+0j) and (-1+0j)\n"
     ]
    }
   ],
   "source": [
    "# Solve the quadratic equation ax**2 + bx + c = 0\n",
    "\n",
    "# import complex math module\n",
    "import cmath\n",
    "\n",
    "def solution():\n",
    "    a = int(input(\"Enter the first number:- \"))\n",
    "    b = int(input(\"Enter the second number:- \"))\n",
    "    c = int(input(\"Enter the third number:- \"))\n",
    "\n",
    "    if a!=0:\n",
    "        # calculate the discriminant\n",
    "        d = (b**2) - (4*a*c)\n",
    "\n",
    "        # find two solutions\n",
    "        sol1 = (-b-cmath.sqrt(d))/(2*a)\n",
    "        sol2 = (-b+cmath.sqrt(d))/(2*a)\n",
    "\n",
    "        print('The solution are {0} and {1}'.format(sol1,sol2))\n",
    "    else:\n",
    "        print(\"sorry wrong value of a!! please try again\")\n",
    "        solution()\n",
    "solution()"
   ]
  },
  {
   "cell_type": "markdown",
   "id": "6eeb02e8",
   "metadata": {},
   "source": [
    "## 5.\tWrite a Python program to swap two variables without temp variable?"
   ]
  },
  {
   "cell_type": "code",
   "execution_count": 11,
   "id": "b850d95a",
   "metadata": {},
   "outputs": [
    {
     "name": "stdout",
     "output_type": "stream",
     "text": [
      "enter the 1st number 30\n",
      "enter the 2nd number 20\n",
      "before swapping\n",
      "First number- 30\n",
      "second number:- 20\n",
      "After swapping\n",
      "First number- 20\n",
      "second number:- 30\n"
     ]
    }
   ],
   "source": [
    "first_number = int(input(\"enter the 1st number \"))\n",
    "second_number = int(input(\"enter the 2nd number \"))\n",
    "print(\"before swapping\")\n",
    "print(\"First number- \"+str(first_number))\n",
    "print(\"second number:- \"+str(second_number))\n",
    "first_number,second_number = second_number,first_number\n",
    "print(\"After swapping\")\n",
    "print(\"First number- \"+str(first_number))\n",
    "print(\"second number:- \"+str(second_number))\n"
   ]
  },
  {
   "cell_type": "code",
   "execution_count": null,
   "id": "4ffd14f7",
   "metadata": {},
   "outputs": [],
   "source": []
  }
 ],
 "metadata": {
  "kernelspec": {
   "display_name": "Python 3 (ipykernel)",
   "language": "python",
   "name": "python3"
  },
  "language_info": {
   "codemirror_mode": {
    "name": "ipython",
    "version": 3
   },
   "file_extension": ".py",
   "mimetype": "text/x-python",
   "name": "python",
   "nbconvert_exporter": "python",
   "pygments_lexer": "ipython3",
   "version": "3.9.7"
  }
 },
 "nbformat": 4,
 "nbformat_minor": 5
}
