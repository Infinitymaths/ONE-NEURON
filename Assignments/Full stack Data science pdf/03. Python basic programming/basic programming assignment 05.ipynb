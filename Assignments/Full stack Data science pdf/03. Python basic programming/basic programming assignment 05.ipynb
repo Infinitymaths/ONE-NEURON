{
 "cells": [
  {
   "cell_type": "markdown",
   "id": "aa947131",
   "metadata": {},
   "source": [
    "# Programming assignment 5"
   ]
  },
  {
   "cell_type": "markdown",
   "id": "4aef46d9",
   "metadata": {},
   "source": [
    "## 1.\tWrite a Python Program to Find LCM?"
   ]
  },
  {
   "cell_type": "code",
   "execution_count": 1,
   "id": "56225ee0",
   "metadata": {},
   "outputs": [
    {
     "name": "stdout",
     "output_type": "stream",
     "text": [
      "enter the first number:- 200202020\n",
      "Enter the second number:- 20202021111\n",
      "LCM of 200202020 and 20202021111 is 4044485434504844220\n"
     ]
    }
   ],
   "source": [
    "def compute_gcd(x, y):\n",
    "\n",
    "    while(y):\n",
    "        x, y = y, x % y\n",
    "    return x\n",
    "\n",
    "# This function computes LCM\n",
    "def compute_lcm(x, y):\n",
    "    lcm = (x*y)//compute_gcd(x,y)\n",
    "    return lcm\n",
    "\n",
    "first_number = int(input(\"enter the first number:- \"))\n",
    "second_number = int(input(\"Enter the second number:- \"))\n",
    "result = compute_lcm(first_number,second_number)\n",
    "print(\"LCM of\",first_number,'and',second_number,'is',result)"
   ]
  },
  {
   "cell_type": "markdown",
   "id": "b325aeb8",
   "metadata": {},
   "source": [
    "## 2.\tWrite a Python Program to Find HCF?"
   ]
  },
  {
   "cell_type": "code",
   "execution_count": 2,
   "id": "8a760f84",
   "metadata": {},
   "outputs": [
    {
     "name": "stdout",
     "output_type": "stream",
     "text": [
      "Enter the number:- 30\n",
      "enter the 2nd number21\n",
      "The HCF is 3\n"
     ]
    }
   ],
   "source": [
    "# Function to find HCF the Using Euclidian algorithm\n",
    "def compute_hcf(x, y):\n",
    "   while(y):\n",
    "       x, y = y, x % y\n",
    "   return x\n",
    "\n",
    "num1 = int(input(\"Enter the number:- \"))\n",
    "num2 = int(input(\"enter the 2nd number\"))\n",
    "hcf = compute_hcf(num1, num2)\n",
    "print(\"The HCF is\", hcf)"
   ]
  },
  {
   "cell_type": "markdown",
   "id": "7765e752",
   "metadata": {},
   "source": [
    "## 3.\tWrite a Python Program to Convert Decimal to Binary, Octal and Hexadecimal?"
   ]
  },
  {
   "cell_type": "code",
   "execution_count": 3,
   "id": "f32c285b",
   "metadata": {},
   "outputs": [
    {
     "name": "stdout",
     "output_type": "stream",
     "text": [
      "Enter the number to be converted:- 100\n",
      "the decimal value given is 100\n",
      "the binary value of 100 is 0b1100100\n",
      "the octal value of 100 is 0o144\n",
      "the hexadecimal value of 100 is 0x64\n"
     ]
    }
   ],
   "source": [
    "num = int(input(\"Enter the number to be converted:- \"))\n",
    "print(\"the decimal value given is\",num)\n",
    "print(\"the binary value of\",num,\"is\",bin(num))\n",
    "print(\"the octal value of\",num,\"is\",oct(num))\n",
    "print(\"the hexadecimal value of\",num,\"is\",hex(num))"
   ]
  },
  {
   "cell_type": "markdown",
   "id": "020fa2b7",
   "metadata": {},
   "source": [
    "## 4.\tWrite a Python Program To Find ASCII value of a character?"
   ]
  },
  {
   "cell_type": "code",
   "execution_count": 4,
   "id": "c28c14d6",
   "metadata": {},
   "outputs": [
    {
     "name": "stdout",
     "output_type": "stream",
     "text": [
      "Enter the character whose ascII is to be found:- e\n",
      "ASCII value of e is 101\n"
     ]
    }
   ],
   "source": [
    "char = input(\"Enter the character whose ascII is to be found:- \")\n",
    "print(\"ASCII value of\",char,\"is\",ord(char))"
   ]
  },
  {
   "cell_type": "markdown",
   "id": "5d688403",
   "metadata": {},
   "source": [
    "## 5.\tWrite a Python Program to Make a Simple Calculator with 4 basic mathematical operations?"
   ]
  },
  {
   "cell_type": "code",
   "execution_count": 8,
   "id": "29b4e832",
   "metadata": {
    "scrolled": true
   },
   "outputs": [
    {
     "name": "stdout",
     "output_type": "stream",
     "text": [
      "========Menu======\n",
      "1. Addition\n",
      "2. Subtraction\n",
      "3. Multiplication\n",
      "4. Division\n",
      "5. for exit\n",
      "Enter the choice:- 1\n",
      "Enter the first number:- 3\n",
      "Enter the second number:- 4\n",
      "Addition of 3 and 4 is 7\n",
      "========Menu======\n",
      "1. Addition\n",
      "2. Subtraction\n",
      "3. Multiplication\n",
      "4. Division\n",
      "5. for exit\n",
      "Enter the choice:- 2\n",
      "Enter the first number:- 4\n",
      "Enter the second number:- 3\n",
      "Subtraction of 4 and 3 is 1\n",
      "========Menu======\n",
      "1. Addition\n",
      "2. Subtraction\n",
      "3. Multiplication\n",
      "4. Division\n",
      "5. for exit\n",
      "Enter the choice:- 4\n",
      "Enter the first number:- 4\n",
      "Enter the second number:- 3\n",
      "Quotient of 4 and 3 is 1.3333333333333333\n",
      "Remainder of 4 and 3 is 1\n",
      "========Menu======\n",
      "1. Addition\n",
      "2. Subtraction\n",
      "3. Multiplication\n",
      "4. Division\n",
      "5. for exit\n",
      "Enter the choice:- 5\n"
     ]
    }
   ],
   "source": [
    "while True:\n",
    "    print(\"========Menu======\")\n",
    "    print(\"1. Addition\")\n",
    "    print(\"2. Subtraction\")\n",
    "    print(\"3. Multiplication\")\n",
    "    print(\"4. Division\")\n",
    "    print(\"5. for exit\")\n",
    "    choice = int(input(\"Enter the choice:- \"))\n",
    "\n",
    "    if choice!=5:\n",
    "        num1 = int(input(\"Enter the first number:- \"))\n",
    "        num2 = int(input(\"Enter the second number:- \"))\n",
    "\n",
    "        if choice==1:\n",
    "            add = num1+num2\n",
    "            print(\"Addition of\",num1,\"and\",num2,\"is\",add)\n",
    "            continue\n",
    "        elif choice==2:\n",
    "            subtract = num1-num2\n",
    "            print(\"Subtraction of\",num1,'and',num2,'is',subtract)\n",
    "            continue\n",
    "        elif choice==3:\n",
    "            multiply = num1*num2\n",
    "            print(\"Multiplication of\",num1,'and',num2,'is',multiply)\n",
    "            continue\n",
    "        elif choice==4:\n",
    "            quotient = num1/num2\n",
    "            remainder = num1%num2\n",
    "            print(\"Quotient of\",num1,'and',num2,'is',quotient)\n",
    "            print('Remainder of',num1,'and',num2,'is',remainder)\n",
    "            continue\n",
    "    elif choice==5:\n",
    "        break"
   ]
  },
  {
   "cell_type": "code",
   "execution_count": null,
   "id": "da7e7b83",
   "metadata": {},
   "outputs": [],
   "source": []
  },
  {
   "cell_type": "code",
   "execution_count": null,
   "id": "afb055cc",
   "metadata": {},
   "outputs": [],
   "source": []
  }
 ],
 "metadata": {
  "kernelspec": {
   "display_name": "Python 3 (ipykernel)",
   "language": "python",
   "name": "python3"
  },
  "language_info": {
   "codemirror_mode": {
    "name": "ipython",
    "version": 3
   },
   "file_extension": ".py",
   "mimetype": "text/x-python",
   "name": "python",
   "nbconvert_exporter": "python",
   "pygments_lexer": "ipython3",
   "version": "3.9.7"
  }
 },
 "nbformat": 4,
 "nbformat_minor": 5
}
