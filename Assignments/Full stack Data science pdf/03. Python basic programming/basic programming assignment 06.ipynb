{
 "cells": [
  {
   "cell_type": "markdown",
   "id": "aa947131",
   "metadata": {},
   "source": [
    "# Programming assignment 6"
   ]
  },
  {
   "cell_type": "markdown",
   "id": "db6077ff",
   "metadata": {},
   "source": [
    "## 1.\tWrite a Python Program to Display Fibonacci Sequence Using Recursion?"
   ]
  },
  {
   "cell_type": "code",
   "execution_count": 1,
   "id": "708db710",
   "metadata": {},
   "outputs": [
    {
     "name": "stdout",
     "output_type": "stream",
     "text": [
      "enter the number of terms- 10\n",
      "Fibonacci sequence:\n",
      "0\n",
      "1\n",
      "1\n",
      "2\n",
      "3\n",
      "5\n",
      "8\n",
      "13\n",
      "21\n",
      "34\n"
     ]
    }
   ],
   "source": [
    "def recursion(num):\n",
    "    if num <= 1:\n",
    "        return num\n",
    "    else:\n",
    "        return(recursion(num-1) + recursion(num-2))\n",
    "\n",
    "n = int(input(\"enter the number of terms- \"))\n",
    "\n",
    "# check if the number of terms is valid\n",
    "if n <= 0:\n",
    "    print(\"Plese enter a positive integer\")\n",
    "else:\n",
    "    print(\"Fibonacci sequence:\")\n",
    "    for i in range(n):\n",
    "        print(recursion(i))"
   ]
  },
  {
   "cell_type": "markdown",
   "id": "11d101be",
   "metadata": {},
   "source": [
    "## 2.\tWrite a Python Program to Find Factorial of Number Using Recursion?"
   ]
  },
  {
   "cell_type": "code",
   "execution_count": 6,
   "id": "d841e205",
   "metadata": {},
   "outputs": [
    {
     "name": "stdout",
     "output_type": "stream",
     "text": [
      "Enter the number whose factorial is to be found:- 0\n",
      "0! is equal to 1\n"
     ]
    }
   ],
   "source": [
    "def factorial(num):\n",
    "    if num<0:\n",
    "        print(\"factorial of negative number doesn't exist\")\n",
    "    elif num==1:\n",
    "        return num\n",
    "    else:\n",
    "        return num*factorial(num-1)\n",
    "\n",
    "number = int(input(\"Enter the number whose factorial is to be found:- \"))\n",
    "if number==0:\n",
    "    print(\"0! is equal to 1\")\n",
    "else:\n",
    "    result = factorial(number)\n",
    "    print(str(number)+\"! is equal to \"+str(result))"
   ]
  },
  {
   "cell_type": "markdown",
   "id": "80350321",
   "metadata": {},
   "source": [
    "## 3.\tWrite a Python Program to calculate your Body Mass Index?`"
   ]
  },
  {
   "cell_type": "code",
   "execution_count": 9,
   "id": "d779c027",
   "metadata": {},
   "outputs": [
    {
     "name": "stdout",
     "output_type": "stream",
     "text": [
      "enter the height in meters:- 1.68\n",
      "enter the weight in kilograms:- 100\n",
      "The BMI is 35.43083900226758 so Ohh no you are suffering from Obesity. You have to work hard on it\n"
     ]
    }
   ],
   "source": [
    "def BMI(height, weight):\n",
    "    bmi = weight/(height**2)\n",
    "    return bmi\n",
    "\n",
    "height = float(input(\"enter the height in meters:- \"))\n",
    "weight = int(input(\"enter the weight in kilograms:- \"))\n",
    " \n",
    "bmi = BMI(height, weight)\n",
    "print(\"The BMI is\", format(bmi), \"so \", end='')\n",
    " \n",
    "# Conditions to find out BMI category\n",
    "if (bmi < 18.5):\n",
    "    print(\"You are underweight!! Eat something ma\")\n",
    "elif ( bmi >= 18.5 and bmi < 24.9):\n",
    "    print(\"You are so Healthy. Keep it up\")\n",
    "elif ( bmi >= 24.9 and bmi < 30):\n",
    "    print(\"buddy you are overweight. Start working\")\n",
    "elif ( bmi >=30):\n",
    "    print(\"Ohh no you are suffering from Obesity. You have to work hard on it\")"
   ]
  },
  {
   "cell_type": "markdown",
   "id": "ebeef80b",
   "metadata": {},
   "source": [
    "## 4.\tWrite a Python Program to calculate the natural logarithm of any number?4.\tWrite a Python Program to calculate the natural logarithm of any number?"
   ]
  },
  {
   "cell_type": "code",
   "execution_count": 13,
   "id": "00a75e13",
   "metadata": {},
   "outputs": [
    {
     "name": "stdout",
     "output_type": "stream",
     "text": [
      "enter the number whose natural log is to be calculated:- 10\n",
      "Natural Log of 10 is 2.302585092994046\n"
     ]
    }
   ],
   "source": [
    "from math import log\n",
    "number = int(input(\"enter the number whose natural log is to be calculated:- \"))\n",
    "print(\"Natural Log of \"+str(number)+\" is \"+str(log(number)))"
   ]
  },
  {
   "cell_type": "markdown",
   "id": "eb68336c",
   "metadata": {},
   "source": [
    "## 5.\tWrite a Python Program for cube sum of first n natural numbers?"
   ]
  },
  {
   "cell_type": "code",
   "execution_count": 14,
   "id": "1f21e32b",
   "metadata": {},
   "outputs": [
    {
     "name": "stdout",
     "output_type": "stream",
     "text": [
      "enter the number:- 5\n",
      "sum of cube of number from 1 to 5 is equal to:- 225\n"
     ]
    }
   ],
   "source": [
    "def sumofcube(num):\n",
    "    sum = 0\n",
    "    for i in range(1,num+1):\n",
    "        sum+=i*i*i\n",
    "    return sum\n",
    "\n",
    "number = int(input(\"enter the number:- \"))\n",
    "result = sumofcube(number)\n",
    "print(\"sum of cube of number from 1 to \"+str(number)+\" is equal to:- \"+str(result))"
   ]
  },
  {
   "cell_type": "code",
   "execution_count": null,
   "id": "b4159c51",
   "metadata": {},
   "outputs": [],
   "source": []
  }
 ],
 "metadata": {
  "kernelspec": {
   "display_name": "Python 3 (ipykernel)",
   "language": "python",
   "name": "python3"
  },
  "language_info": {
   "codemirror_mode": {
    "name": "ipython",
    "version": 3
   },
   "file_extension": ".py",
   "mimetype": "text/x-python",
   "name": "python",
   "nbconvert_exporter": "python",
   "pygments_lexer": "ipython3",
   "version": "3.9.7"
  }
 },
 "nbformat": 4,
 "nbformat_minor": 5
}
