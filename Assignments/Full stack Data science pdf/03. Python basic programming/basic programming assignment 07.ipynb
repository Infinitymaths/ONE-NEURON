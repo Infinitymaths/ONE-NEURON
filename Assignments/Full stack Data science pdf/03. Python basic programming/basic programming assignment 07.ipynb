{
 "cells": [
  {
   "cell_type": "markdown",
   "id": "aa947131",
   "metadata": {},
   "source": [
    "# Programming assignment 7"
   ]
  },
  {
   "cell_type": "markdown",
   "id": "cd07dcde",
   "metadata": {},
   "source": [
    "## 1.\tWrite a Python Program to find sum of array?"
   ]
  },
  {
   "cell_type": "code",
   "execution_count": 2,
   "id": "90767551",
   "metadata": {},
   "outputs": [
    {
     "name": "stdout",
     "output_type": "stream",
     "text": [
      "Enter the number of elements:- 5\n",
      "enter the number1\n",
      "enter the number2\n",
      "enter the number3\n",
      "enter the number4\n",
      "enter the number5\n",
      "sum of the elements in the array is- 15\n"
     ]
    }
   ],
   "source": [
    "def sumofarr(arr):\n",
    "    sum = 0\n",
    "    for i in range(len(arr)):\n",
    "        sum+=arr[i]\n",
    "    return sum\n",
    "\n",
    "n = int(input(\"Enter the number of elements:- \"))\n",
    "lst = []\n",
    "for i in range(n):\n",
    "    num = int(input(\"enter the number\"))\n",
    "    lst.append(num)\n",
    "result = sumofarr(lst)\n",
    "print(\"sum of the elements in the array is- \"+str(result))"
   ]
  },
  {
   "cell_type": "markdown",
   "id": "4096e60f",
   "metadata": {},
   "source": [
    "## 2.\tWrite a Python Program to find largest element in an array?"
   ]
  },
  {
   "cell_type": "code",
   "execution_count": 4,
   "id": "c1d0386f",
   "metadata": {},
   "outputs": [
    {
     "name": "stdout",
     "output_type": "stream",
     "text": [
      "Enter the number of elements:- 6\n",
      "enter the number100\n",
      "enter the number999\n",
      "enter the number39\n",
      "enter the number23\n",
      "enter the number100000\n",
      "enter the number33101010101\n",
      "largest element in the list is- 33101010101\n"
     ]
    }
   ],
   "source": [
    "def largestinarray(arr,n):\n",
    "    max = arr[0]\n",
    "    for i in range(1,n):\n",
    "        if arr[i]>max:\n",
    "            max = arr[i]\n",
    "    return max\n",
    "\n",
    "n = int(input(\"Enter the number of elements:- \"))\n",
    "lst = []\n",
    "for i in range(n):\n",
    "    num = int(input(\"enter the number\"))\n",
    "    lst.append(num)\n",
    "result = largestinarray(lst,n)\n",
    "print(\"largest element in the list is- \"+str(result))"
   ]
  },
  {
   "cell_type": "markdown",
   "id": "39d0fa77",
   "metadata": {},
   "source": [
    "## 3.\tWrite a Python Program for array rotation?"
   ]
  },
  {
   "cell_type": "code",
   "execution_count": 6,
   "id": "5d77f4a2",
   "metadata": {},
   "outputs": [
    {
     "name": "stdout",
     "output_type": "stream",
     "text": [
      "Enter the number of elements:- 6\n",
      "enter the number of elements after which the element to be rotated:- 2\n",
      "enter the number1\n",
      "enter the number2\n",
      "enter the number3\n",
      "enter the number4\n",
      "enter the number5\n",
      "enter the number6\n",
      "[1, 2, 3, 4, 5, 6]\n",
      "Rotated list is\n",
      "[3, 4, 5, 6, 1, 2]\n"
     ]
    }
   ],
   "source": [
    "def rotateList(arr,d,n):\n",
    "    arr[:]=arr[d:n]+arr[0:d]\n",
    "    return arr\n",
    "# Driver function to test above function\n",
    "n = int(input(\"Enter the number of elements:- \"))\n",
    "d = int(input(\"enter the number of elements after which the element to be rotated:- \"))\n",
    "arr = []\n",
    "for i in range(n):\n",
    "    num = int(input(\"enter the number\"))\n",
    "    arr.append(num)\n",
    "print(arr)\n",
    "print(\"Rotated list is\")\n",
    "print(rotateList(arr,d,n)) "
   ]
  },
  {
   "cell_type": "markdown",
   "id": "4c32a019",
   "metadata": {},
   "source": [
    "## 4.\tWrite a Python Program to Split the array and add the first part to the end?"
   ]
  },
  {
   "cell_type": "code",
   "execution_count": 10,
   "id": "4e57dbc3",
   "metadata": {},
   "outputs": [
    {
     "name": "stdout",
     "output_type": "stream",
     "text": [
      "Enter the number of elements:- 7\n",
      "enter the number of elements after which the element to be rotated:- 4\n",
      "enter the number1\n",
      "enter the number2\n",
      "enter the number3\n",
      "enter the number4\n",
      "enter the number5\n",
      "enter the number6\n",
      "enter the number7\n",
      "Before splitting\n",
      "[1, 2, 3, 4, 5, 6, 7]\n",
      "After splitting\n",
      "[5, 6, 7, 1, 2, 3, 4] "
     ]
    }
   ],
   "source": [
    "def splitArr(a, n, k): \n",
    "    b = a[:k]\n",
    "    return (a[k::]+b[::])\n",
    "          \n",
    "n = int(input(\"Enter the number of elements:- \"))\n",
    "d = int(input(\"enter the number of elements after which the element to be rotated:- \"))\n",
    "arr = []\n",
    "for i in range(n):\n",
    "    num = int(input(\"enter the number\"))\n",
    "    arr.append(num)\n",
    "print(\"Before splitting\")\n",
    "print(arr)\n",
    "result = splitArr(arr, n, d)\n",
    "print(\"After splitting\")\n",
    "print(result, end = ' ')\n"
   ]
  },
  {
   "cell_type": "markdown",
   "id": "21d29470",
   "metadata": {},
   "source": [
    "## 5.\tWrite a Python Program to check if given array is Monotonic?"
   ]
  },
  {
   "cell_type": "code",
   "execution_count": 12,
   "id": "55812be3",
   "metadata": {},
   "outputs": [
    {
     "name": "stdout",
     "output_type": "stream",
     "text": [
      "enter the length of the list:- 5\n",
      "Enter the number:- 1\n",
      "Enter the number:- 3\n",
      "Enter the number:- 2\n",
      "Enter the number:- 5\n",
      "Enter the number:- 4\n",
      "False\n"
     ]
    }
   ],
   "source": [
    "def monotonic(A):\n",
    "  \n",
    "    return (all(A[i] <= A[i + 1] for i in range(len(A) - 1)) or\n",
    "            all(A[i] >= A[i + 1] for i in range(len(A) - 1)))\n",
    "  \n",
    "n = int(input(\"enter the length of the list:- \"))\n",
    "lst = []\n",
    "for i in range(n):\n",
    "    num = int(input(\"Enter the number:- \"))\n",
    "    lst.append(num)  \n",
    "# Print required result\n",
    "print(monotonic(lst))"
   ]
  },
  {
   "cell_type": "code",
   "execution_count": null,
   "id": "0832f34e",
   "metadata": {},
   "outputs": [],
   "source": []
  }
 ],
 "metadata": {
  "kernelspec": {
   "display_name": "Python 3 (ipykernel)",
   "language": "python",
   "name": "python3"
  },
  "language_info": {
   "codemirror_mode": {
    "name": "ipython",
    "version": 3
   },
   "file_extension": ".py",
   "mimetype": "text/x-python",
   "name": "python",
   "nbconvert_exporter": "python",
   "pygments_lexer": "ipython3",
   "version": "3.9.7"
  }
 },
 "nbformat": 4,
 "nbformat_minor": 5
}
