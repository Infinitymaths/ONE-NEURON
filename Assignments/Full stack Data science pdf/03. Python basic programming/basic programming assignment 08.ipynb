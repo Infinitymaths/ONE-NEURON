{
 "cells": [
  {
   "cell_type": "markdown",
   "id": "aa947131",
   "metadata": {},
   "source": [
    "# Programming assignment 8"
   ]
  },
  {
   "cell_type": "markdown",
   "id": "b365e79e",
   "metadata": {},
   "source": [
    "## 1.\tWrite a Python Program to Add Two Matrices?"
   ]
  },
  {
   "cell_type": "code",
   "execution_count": 8,
   "id": "0832f34e",
   "metadata": {
    "scrolled": true
   },
   "outputs": [
    {
     "name": "stdout",
     "output_type": "stream",
     "text": [
      "Enter the number of rows of matrix 1: 3\n",
      "Enter the number of columns of matrix 1: 3\n",
      "Enter the number of rows of matrix 2: 3\n",
      "Enter the number of columns of matrix 2: 3\n",
      "Enter the entries in a single line (separated by space): \n",
      "1 2 3 4 5 6 7 8 9\n",
      "[[1 2 3]\n",
      " [4 5 6]\n",
      " [7 8 9]]\n",
      "10 11 12 13 14 15 16 17 18\n",
      "[[10 11 12]\n",
      " [13 14 15]\n",
      " [16 17 18]]\n",
      "Sum of the matrices are:- \n",
      "[[11 13 15]\n",
      " [17 19 21]\n",
      " [23 25 27]]\n"
     ]
    }
   ],
   "source": [
    "import numpy as np\n",
    "  \n",
    "R1 = int(input(\"Enter the number of rows of matrix 1: \"))\n",
    "C1 = int(input(\"Enter the number of columns of matrix 1: \"))\n",
    "R2 = int(input(\"Enter the number of rows of matrix 2: \"))\n",
    "C2 = int(input(\"Enter the number of columns of matrix 2: \"))\n",
    "\n",
    "print(\"Enter the entries in a single line (separated by space): \")\n",
    "\n",
    "entries1 = list(map(int, input().split()))\n",
    "matrix1 = np.array(entries1).reshape(R1, C1)\n",
    "print(matrix1)\n",
    "\n",
    "entries2 = list(map(int, input().split()))\n",
    "matrix2 = np.array(entries2).reshape(R2, C2)\n",
    "print(matrix2)\n",
    "\n",
    "if ((R1==R2) and (C1==C2)):\n",
    "    result1 = [[0]*C1]*R1\n",
    "    result = np.array(result1).reshape(R1,C1)\n",
    "#     print(result)\n",
    "    for i in range(len(matrix1)):\n",
    "        for j in range(len(matrix1[0])):\n",
    "            result[i][j] = matrix1[i][j] + matrix2[i][j]\n",
    "print('Sum of the matrices are:- ')\n",
    "print(result)"
   ]
  },
  {
   "cell_type": "markdown",
   "id": "d5d9e5c3",
   "metadata": {},
   "source": [
    "## 2.\tWrite a Python Program to Multiply Two Matrices?"
   ]
  },
  {
   "cell_type": "code",
   "execution_count": 10,
   "id": "dde7994b",
   "metadata": {},
   "outputs": [
    {
     "name": "stdout",
     "output_type": "stream",
     "text": [
      "Enter the number of rows of matrix 1: 3\n",
      "Enter the number of columns of matrix 1: 3\n",
      "Enter the number of rows of matrix 2: 3\n",
      "Enter the number of columns of matrix 2: 3\n",
      "Enter the entries in a single line (separated by space): \n",
      "1 2 3 4 5 6 7 8 9\n",
      "[[1 2 3]\n",
      " [4 5 6]\n",
      " [7 8 9]]\n",
      "10 11 12 13 14 15 16 17 18\n",
      "[[10 11 12]\n",
      " [13 14 15]\n",
      " [16 17 18]]\n",
      "[[ 84  90  96]\n",
      " [201 216 231]\n",
      " [318 342 366]]\n"
     ]
    }
   ],
   "source": [
    "import numpy as np\n",
    "  \n",
    "R1 = int(input(\"Enter the number of rows of matrix 1: \"))\n",
    "C1 = int(input(\"Enter the number of columns of matrix 1: \"))\n",
    "R2 = int(input(\"Enter the number of rows of matrix 2: \"))\n",
    "C2 = int(input(\"Enter the number of columns of matrix 2: \"))\n",
    "\n",
    "print(\"Enter the entries in a single line (separated by space): \")\n",
    "\n",
    "entries1 = list(map(int, input().split()))\n",
    "matrix1 = np.array(entries1).reshape(R1, C1)\n",
    "print(matrix1)\n",
    "\n",
    "entries2 = list(map(int, input().split()))\n",
    "matrix2 = np.array(entries2).reshape(R2, C2)\n",
    "print(matrix2)\n",
    "\n",
    "if (C1==R2):\n",
    "    result1 = [[0]*C2]*R1\n",
    "    result = np.array(result1).reshape(R1,C2)\n",
    "    for i in range(len(matrix1)):\n",
    "        for j in range(len(matrix2[0])):\n",
    "            for k in range(len(matrix2)):\n",
    "                result[i][j] += matrix1[i][k] * matrix2[k][j]\n",
    "print(result)"
   ]
  },
  {
   "cell_type": "markdown",
   "id": "d6dd7c37",
   "metadata": {},
   "source": [
    "## 3.\tWrite a Python Program to Transpose a Matrix?"
   ]
  },
  {
   "cell_type": "code",
   "execution_count": 14,
   "id": "12103fb1",
   "metadata": {},
   "outputs": [
    {
     "name": "stdout",
     "output_type": "stream",
     "text": [
      "Enter the number of rows of matrix 1: 3\n",
      "Enter the number of columns of matrix 1: 2\n",
      "Enter the entries in a single line (separated by space): \n",
      "1 2 3 4 5 6\n",
      "[[1 2]\n",
      " [3 4]\n",
      " [5 6]]\n",
      "[[1 3 5]\n",
      " [2 4 6]]\n"
     ]
    }
   ],
   "source": [
    "import numpy as np\n",
    "  \n",
    "R1 = int(input(\"Enter the number of rows of matrix 1: \"))\n",
    "C1 = int(input(\"Enter the number of columns of matrix 1: \"))\n",
    "\n",
    "print(\"Enter the entries in a single line (separated by space): \")\n",
    "\n",
    "entries1 = list(map(int, input().split()))\n",
    "matrix = np.array(entries1).reshape(R1, C1)\n",
    "print(matrix)\n",
    "\n",
    "result1 = [[0]*R1]*C1\n",
    "result = np.array(result1).reshape(C1,R1)\n",
    "\n",
    "for i in range(len(matrix)):\n",
    "    for j in range(len(matrix[0])):\n",
    "        result[j][i] = matrix[i][j]\n",
    "print(result)"
   ]
  },
  {
   "cell_type": "markdown",
   "id": "61e8938e",
   "metadata": {},
   "source": [
    "## 4.\tWrite a Python Program to Sort Words in Alphabetic Order?"
   ]
  },
  {
   "cell_type": "code",
   "execution_count": 15,
   "id": "9265457b",
   "metadata": {},
   "outputs": [
    {
     "name": "stdout",
     "output_type": "stream",
     "text": [
      "enter the string:- My name is sharath\n",
      "the sorted words are:- \n",
      "is\n",
      "my\n",
      "name\n",
      "sharath\n"
     ]
    }
   ],
   "source": [
    "my_str = input(\"enter the string:- \")\n",
    "\n",
    "words = [word.lower() for word in my_str.split()]\n",
    "words.sort()\n",
    "\n",
    "print(\"the sorted words are:- \")\n",
    "for word in words:\n",
    "    print(word)"
   ]
  },
  {
   "cell_type": "markdown",
   "id": "1e278699",
   "metadata": {},
   "source": [
    "## 5.\tWrite a Python Program to Remove Punctuation From a String?"
   ]
  },
  {
   "cell_type": "code",
   "execution_count": 16,
   "id": "5c333a0a",
   "metadata": {},
   "outputs": [
    {
     "name": "stdout",
     "output_type": "stream",
     "text": [
      "Enter a string: Hello, world.!!!\n",
      "Hello world\n"
     ]
    }
   ],
   "source": [
    "punctuations = '''!()-[]{};:'\"\\,<>./?@#$%^&*_~'''\n",
    "my_str = input(\"Enter a string: \")\n",
    "\n",
    "no_punct = \"\"\n",
    "for char in my_str:\n",
    "    if char not in punctuations:\n",
    "        no_punct = no_punct + char\n",
    "print(no_punct)"
   ]
  }
 ],
 "metadata": {
  "kernelspec": {
   "display_name": "Python 3 (ipykernel)",
   "language": "python",
   "name": "python3"
  },
  "language_info": {
   "codemirror_mode": {
    "name": "ipython",
    "version": 3
   },
   "file_extension": ".py",
   "mimetype": "text/x-python",
   "name": "python",
   "nbconvert_exporter": "python",
   "pygments_lexer": "ipython3",
   "version": "3.9.7"
  }
 },
 "nbformat": 4,
 "nbformat_minor": 5
}
