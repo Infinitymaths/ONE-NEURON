{
 "cells": [
  {
   "cell_type": "markdown",
   "id": "aa947131",
   "metadata": {},
   "source": [
    "# Programming assignment 10"
   ]
  },
  {
   "cell_type": "markdown",
   "id": "f6ba8ea6",
   "metadata": {},
   "source": [
    "## 1.\tWrite a Python program to find sum of elements in list?"
   ]
  },
  {
   "cell_type": "code",
   "execution_count": 1,
   "id": "444aa461",
   "metadata": {},
   "outputs": [
    {
     "name": "stdout",
     "output_type": "stream",
     "text": [
      "Enter the number of elements in the list:- 5\n",
      "Enter the number:- 1\n",
      "Enter the number:- 2\n",
      "Enter the number:- 3\n",
      "Enter the number:- 4\n",
      "Enter the number:- 5\n",
      "15\n"
     ]
    }
   ],
   "source": [
    "n = int(input(\"Enter the number of elements in the list:- \"))\n",
    "lst = []\n",
    "for i in range(n):\n",
    "    num = int(input(\"Enter the number:- \"))\n",
    "    lst.append(num)\n",
    "sum = 0\n",
    "for i in range(n):\n",
    "    sum+=lst[i]\n",
    "print(sum)"
   ]
  },
  {
   "cell_type": "markdown",
   "id": "bf38516f",
   "metadata": {},
   "source": [
    "## 2.\tWrite a Python program to  Multiply all numbers in the list?"
   ]
  },
  {
   "cell_type": "code",
   "execution_count": 2,
   "id": "9f0cccd9",
   "metadata": {},
   "outputs": [
    {
     "name": "stdout",
     "output_type": "stream",
     "text": [
      "Enter the number of elements in the list:- 4\n",
      "Enter the number:- 4\n",
      "Enter the number:- 3\n",
      "Enter the number:- 2\n",
      "Enter the number:- 1\n",
      "24\n"
     ]
    }
   ],
   "source": [
    "n = int(input(\"Enter the number of elements in the list:- \"))\n",
    "lst = []\n",
    "for i in range(n):\n",
    "    num = int(input(\"Enter the number:- \"))\n",
    "    lst.append(num)\n",
    "multiply = 1\n",
    "for i in range(n):\n",
    "    multiply*=lst[i]\n",
    "print(multiply)"
   ]
  },
  {
   "cell_type": "markdown",
   "id": "250e5d67",
   "metadata": {},
   "source": [
    "## 3.\tWrite a Python program to find smallest number in a list?"
   ]
  },
  {
   "cell_type": "code",
   "execution_count": 4,
   "id": "daf398a3",
   "metadata": {},
   "outputs": [
    {
     "name": "stdout",
     "output_type": "stream",
     "text": [
      "Enter the number of elements in the list:- 6\n",
      "Enter the number:- 4\n",
      "Enter the number:- 32\n",
      "Enter the number:- 11\n",
      "Enter the number:- 22\n",
      "Enter the number:- 0\n",
      "Enter the number:- 1\n",
      "Minimum element in the list is:- 0\n"
     ]
    }
   ],
   "source": [
    "n = int(input(\"Enter the number of elements in the list:- \"))\n",
    "lst = []\n",
    "for i in range(n):\n",
    "    num = int(input(\"Enter the number:- \"))\n",
    "    lst.append(num)\n",
    "lst.sort()\n",
    "print(\"Minimum element in the list is:- \"+str(lst[0]))"
   ]
  },
  {
   "cell_type": "markdown",
   "id": "bd3c9bb5",
   "metadata": {},
   "source": [
    "## 4.\tWrite a Python program to find largest number in a list?"
   ]
  },
  {
   "cell_type": "code",
   "execution_count": 7,
   "id": "f8dad53f",
   "metadata": {},
   "outputs": [
    {
     "name": "stdout",
     "output_type": "stream",
     "text": [
      "Enter the number of elements in the list:- 5\n",
      "Enter the number:- 100000\n",
      "Enter the number:- 100\n",
      "Enter the number:- 229\n",
      "Enter the number:- 392\n",
      "Enter the number:- 49\n",
      "Largest number in the list is:- 100000\n",
      "Largest number in the list is:- 100000\n"
     ]
    }
   ],
   "source": [
    "n = int(input(\"Enter the number of elements in the list:- \"))\n",
    "lst = []\n",
    "for i in range(n):\n",
    "    num = int(input(\"Enter the number:- \"))\n",
    "    lst.append(num)\n",
    "#first method\n",
    "lst.sort(reverse=True)\n",
    "print(\"Largest number in the list is:- \"+str(lst[0]))\n",
    "#second method\n",
    "lst.sort()\n",
    "print(\"Largest number in the list is:- \"+str(lst[-1]))"
   ]
  },
  {
   "cell_type": "markdown",
   "id": "6bfdec5a",
   "metadata": {},
   "source": [
    "## 5.\tWrite a Python program to find second largest number in a list?"
   ]
  },
  {
   "cell_type": "code",
   "execution_count": 1,
   "id": "ea97ee73",
   "metadata": {
    "scrolled": true
   },
   "outputs": [
    {
     "name": "stdout",
     "output_type": "stream",
     "text": [
      "Enter the number of elements in the list:- 5\n",
      "Enter the number:- 1\n",
      "Enter the number:- 24\n",
      "Enter the number:- 5\n",
      "Enter the number:- 32\n",
      "Enter the number:- 23\n",
      "Largest number in the list is:- 24\n",
      "Largest number in the list is:- 24\n"
     ]
    }
   ],
   "source": [
    "n = int(input(\"Enter the number of elements in the list:- \"))\n",
    "lst = []\n",
    "for i in range(n):\n",
    "    num = int(input(\"Enter the number:- \"))\n",
    "    lst.append(num)\n",
    "#first method\n",
    "lst.sort(reverse=True)\n",
    "print(\"Largest number in the list is:- \"+str(lst[1]))\n",
    "#second method\n",
    "lst.sort()\n",
    "print(\"Largest number in the list is:- \"+str(lst[-2]))"
   ]
  },
  {
   "cell_type": "markdown",
   "id": "a1191a7e",
   "metadata": {},
   "source": [
    "\n",
    "## 6.\tWrite a Python program to find N largest elements from a list?"
   ]
  },
  {
   "cell_type": "code",
   "execution_count": 15,
   "id": "48a5cf0b",
   "metadata": {},
   "outputs": [
    {
     "name": "stdout",
     "output_type": "stream",
     "text": [
      "Enter the number of elements in the list:- 5\n",
      "enter which largest element do we need:- 4\n",
      "Enter the number:- 1\n",
      "Enter the number:- 2\n",
      "Enter the number:- 3\n",
      "Enter the number:- 4\n",
      "Enter the number:- 5\n",
      "first method\n",
      "4 largest element in the list is:- 2\n",
      "Second method\n",
      "4 largest element in the list is:- 2\n"
     ]
    }
   ],
   "source": [
    "def nlargest(lst,n,d):\n",
    "    lst.sort()\n",
    "    print(\"first method\")\n",
    "    print(str(d)+\" largest element in the list is:- \"+str(lst[-d]))\n",
    "    lst.sort(reverse=True)\n",
    "    print(\"Second method\")\n",
    "    print(str(d)+\" largest element in the list is:- \"+str(lst[d-1]))\n",
    "\n",
    "def main():\n",
    "    n = int(input(\"Enter the number of elements in the list:- \"))\n",
    "    d = int(input(\"enter which largest element do we need:- \"))\n",
    "    lst = []\n",
    "    if n>d:\n",
    "        for i in range(n):\n",
    "            num = int(input(\"Enter the number:- \"))\n",
    "            lst.append(num)\n",
    "        nlargest(lst,n,d)\n",
    "    else:\n",
    "        print(\"list index out of range\")\n",
    "        main()\n",
    "main()"
   ]
  },
  {
   "cell_type": "markdown",
   "id": "7f4e5181",
   "metadata": {},
   "source": [
    "## 7.\tWrite a Python program to print even numbers in a list?"
   ]
  },
  {
   "cell_type": "code",
   "execution_count": 22,
   "id": "746d28d5",
   "metadata": {},
   "outputs": [
    {
     "name": "stdout",
     "output_type": "stream",
     "text": [
      "enter the number of elements in the list:- 5\n",
      "enter the number:- 6\n",
      "enter the number:- 36\n",
      "enter the number:- 9\n",
      "enter the number:- 9\n",
      "enter the number:- 89\n",
      "Even number in the list is:- [6, 36]\n"
     ]
    }
   ],
   "source": [
    "def even_list(lst):\n",
    "    temp = []\n",
    "    for i in range(len(lst)):\n",
    "        if lst[i]%2==0:\n",
    "            temp.append(lst[i])\n",
    "    return temp\n",
    "\n",
    "n = int(input(\"enter the number of elements in the list:- \"))\n",
    "lst = []\n",
    "for i in range(n):\n",
    "    num = int(input(\"enter the number:- \"))\n",
    "    lst.append(num)\n",
    "result = even_list(lst)\n",
    "if len(result)==0:\n",
    "    print(\"there is no even number in the list\")\n",
    "else:\n",
    "    print(\"Even number in the list is:-\",end=\" \")\n",
    "    print(result)"
   ]
  },
  {
   "cell_type": "markdown",
   "id": "fe1e0bee",
   "metadata": {},
   "source": [
    "## 8.\tWrite a Python program to print odd numbers in a List?"
   ]
  },
  {
   "cell_type": "code",
   "execution_count": 23,
   "id": "1584172c",
   "metadata": {},
   "outputs": [
    {
     "name": "stdout",
     "output_type": "stream",
     "text": [
      "enter the number of elements in the list:- 6\n",
      "enter the number:- 23\n",
      "enter the number:- 25\n",
      "enter the number:- 16\n",
      "enter the number:- 16\n",
      "enter the number:- 10\n",
      "enter the number:- 12\n",
      "Odd number in the list is:- [23, 25]\n"
     ]
    }
   ],
   "source": [
    "def odd_list(lst):\n",
    "    temp = []\n",
    "    for i in range(len(lst)):\n",
    "        if lst[i]%2!=0:\n",
    "            temp.append(lst[i])\n",
    "    return temp\n",
    "\n",
    "n = int(input(\"enter the number of elements in the list:- \"))\n",
    "lst = []\n",
    "for i in range(n):\n",
    "    num = int(input(\"enter the number:- \"))\n",
    "    lst.append(num)\n",
    "result = odd_list(lst)\n",
    "if len(result)==0:\n",
    "    print(\"there is no odd number in the list\")\n",
    "else:\n",
    "    print(\"Odd number in the list is:-\",end=\" \")\n",
    "    print(result)"
   ]
  },
  {
   "cell_type": "markdown",
   "id": "ee383051",
   "metadata": {},
   "source": [
    "### 9.\tWrite a Python program to Remove empty List from List?"
   ]
  },
  {
   "cell_type": "code",
   "execution_count": 29,
   "id": "7c8a7a14",
   "metadata": {},
   "outputs": [
    {
     "name": "stdout",
     "output_type": "stream",
     "text": [
      "enter the elements of the list with spaces1 [] 2 3 []\n",
      "The original list is : ['1', '[]', '2', '3', '[]']\n",
      "List after empty list removal : ['1', '2', '3']\n"
     ]
    }
   ],
   "source": [
    "lst = input(\"enter the elements of the list with spaces\")\n",
    "lst = lst.split()\n",
    "# printing original list \n",
    "print(\"The original list is : \" + str(lst))\n",
    "  \n",
    "# Remove empty List from List\n",
    "# using filter\n",
    "res = [ele for ele in lst if ele != '[]']\n",
    "\n",
    "  \n",
    "# printing result \n",
    "print (\"List after empty list removal : \" + str(res))"
   ]
  },
  {
   "cell_type": "markdown",
   "id": "a4b67ee7",
   "metadata": {},
   "source": [
    "## 10.\tWrite a Python program to Cloning or Copying a list?"
   ]
  },
  {
   "cell_type": "code",
   "execution_count": 31,
   "id": "c1de4179",
   "metadata": {},
   "outputs": [
    {
     "name": "stdout",
     "output_type": "stream",
     "text": [
      "Enter the number of elements:- 5\n",
      "enter the elements of the list1\n",
      "enter the elements of the list2\n",
      "enter the elements of the lists\n",
      "enter the elements of the listf\n",
      "enter the elements of the listv\n",
      "before cloning\n",
      "['1', '2', 's', 'f', 'v']\n",
      "After cloning using method 1\n",
      "['1', '2', 's', 'f', 'v']\n",
      "After cloning using method2\n",
      "['1', '2', 's', 'f', 'v']\n"
     ]
    }
   ],
   "source": [
    "#first method\n",
    "def cloning1(lst):\n",
    "    lst_copy = lst[:]\n",
    "    return lst_copy\n",
    "# second method\n",
    "def cloning2(lst):\n",
    "    lst_copy = []\n",
    "    lst_copy.extend(lst)\n",
    "    return lst_copy\n",
    "\n",
    "n = int(input(\"Enter the number of elements:- \"))\n",
    "lst = []\n",
    "for i in range(n):\n",
    "    num = input(\"enter the elements of the list \")\n",
    "    lst.append(num)\n",
    "print(\"before cloning\")\n",
    "print(lst)\n",
    "result1 = cloning1(lst)\n",
    "print(\"After cloning using method 1\")\n",
    "print(result1)\n",
    "result2 = cloning2(lst)\n",
    "print(\"After cloning using method2\")\n",
    "print(result2)"
   ]
  },
  {
   "cell_type": "markdown",
   "id": "00b5f395",
   "metadata": {},
   "source": [
    "## 11.\tWrite a Python program to Count occurrences of an element in a list?"
   ]
  },
  {
   "cell_type": "code",
   "execution_count": 32,
   "id": "f384730e",
   "metadata": {},
   "outputs": [
    {
     "name": "stdout",
     "output_type": "stream",
     "text": [
      "Enter the number of elements in the list:- 5\n",
      "enter the element of the list:- 1\n",
      "enter the element of the list:- 1\n",
      "enter the element of the list:- 1\n",
      "enter the element of the list:- 3\n",
      "enter the element of the list:- 3\n",
      "Which element:- 1\n",
      "Occurence of element 1 is equal to 3\n"
     ]
    }
   ],
   "source": [
    "def count_element(lst,x):\n",
    "    count = 0\n",
    "    for i in range(len(lst)):\n",
    "        if lst[i] ==x:\n",
    "            count+=1\n",
    "    return count\n",
    "\n",
    "n = int(input(\"Enter the number of elements in the list:- \"))\n",
    "lst1 = []\n",
    "for i in range(n):\n",
    "    ele = input(\"enter the element of the list:- \")\n",
    "    lst1.append(ele)\n",
    "x = input(\"Which element:- \")\n",
    "\n",
    "result = count_element(lst1,x)\n",
    "print(\"Occurence of element \"+x+\" is equal to \"+str(result))\n"
   ]
  },
  {
   "cell_type": "code",
   "execution_count": null,
   "id": "7c86433d",
   "metadata": {},
   "outputs": [],
   "source": []
  }
 ],
 "metadata": {
  "kernelspec": {
   "display_name": "Python 3 (ipykernel)",
   "language": "python",
   "name": "python3"
  },
  "language_info": {
   "codemirror_mode": {
    "name": "ipython",
    "version": 3
   },
   "file_extension": ".py",
   "mimetype": "text/x-python",
   "name": "python",
   "nbconvert_exporter": "python",
   "pygments_lexer": "ipython3",
   "version": "3.9.7"
  }
 },
 "nbformat": 4,
 "nbformat_minor": 5
}
