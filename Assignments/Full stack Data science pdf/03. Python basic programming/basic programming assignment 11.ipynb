{
 "cells": [
  {
   "cell_type": "markdown",
   "id": "aa947131",
   "metadata": {},
   "source": [
    "# Programming assignment 11"
   ]
  },
  {
   "cell_type": "markdown",
   "id": "f2119451",
   "metadata": {},
   "source": [
    "## 1.\tWrite a Python program to find words which are greater than given length k?"
   ]
  },
  {
   "cell_type": "code",
   "execution_count": 1,
   "id": "bda22566",
   "metadata": {},
   "outputs": [
    {
     "name": "stdout",
     "output_type": "stream",
     "text": [
      "Enter the string:- hello geeks for geeks is computer science portal\n",
      "Enter the length of the string:- 4\n",
      "string greater than 4 is:-  ['hello', 'geeks', 'geeks', 'computer', 'science', 'portal']\n"
     ]
    }
   ],
   "source": [
    "def string_greater_k(str,k):\n",
    "    string = []\n",
    "    \n",
    "    words = str.split(\" \")\n",
    "    \n",
    "    for x in words:\n",
    "        if len(x)>k:\n",
    "            string.append(x)\n",
    "    \n",
    "    return string\n",
    "\n",
    "string = input(\"Enter the string:- \")\n",
    "n = int(input(\"Enter the length of the string:- \"))\n",
    "result = string_greater_k(string,n)\n",
    "print(\"string greater than \"+str(n)+\" is:- \",end=\" \")\n",
    "print(result)"
   ]
  },
  {
   "cell_type": "markdown",
   "id": "c34dc8a1",
   "metadata": {},
   "source": [
    "## 2.\tWrite a Python program for removing i-th character from a string?"
   ]
  },
  {
   "cell_type": "code",
   "execution_count": 3,
   "id": "7ae42b4f",
   "metadata": {},
   "outputs": [
    {
     "name": "stdout",
     "output_type": "stream",
     "text": [
      "enter the string- Sharath\n",
      "enter the position:- 3\n",
      "Before removing the string:- \n",
      "Sharath\n",
      "After removing the string:- \n",
      "Shaath\n"
     ]
    }
   ],
   "source": [
    "def remove_string(string,i):\n",
    "    a = string[:i]\n",
    "    b = string[i+1:]\n",
    "    return a+b\n",
    "\n",
    "string = input(\"enter the string- \")\n",
    "n = int(input(\"enter the position:- \"))\n",
    "print(\"Before removing the string:- \")\n",
    "print(string)\n",
    "result = remove_string(string,n)\n",
    "print(\"After removing the string:- \")\n",
    "print(result)"
   ]
  },
  {
   "cell_type": "markdown",
   "id": "0e40073c",
   "metadata": {},
   "source": [
    "## 3.\tWrite a Python program to split and join a string?"
   ]
  },
  {
   "cell_type": "code",
   "execution_count": 4,
   "id": "1a9b7c70",
   "metadata": {},
   "outputs": [
    {
     "name": "stdout",
     "output_type": "stream",
     "text": [
      "Enter the stringHello my name is sharath\n",
      "Original string\n",
      "Hello my name is sharath\n",
      "After splitting string:- \n",
      "['Hello', 'my', 'name', 'is', 'sharath']\n",
      "After joining string:- \n",
      "Hello my name is sharath\n"
     ]
    }
   ],
   "source": [
    "def split_string(str):\n",
    "    return str.split()\n",
    "    \n",
    "\n",
    "def join(str):\n",
    "    return ' '.join(str)\n",
    "\n",
    "string = input(\"Enter the string\")\n",
    "print(\"Original string\")\n",
    "print(string)\n",
    "splitting_string  = split_string(string)\n",
    "print(\"After splitting string:- \")\n",
    "print(splitting_string)\n",
    "joining_string = join(splitting_string)\n",
    "print(\"After joining string:- \")\n",
    "print(joining_string)"
   ]
  },
  {
   "cell_type": "markdown",
   "id": "568bf45e",
   "metadata": {},
   "source": [
    "## 4.\tWrite a Python to check if a given string is binary string or not?"
   ]
  },
  {
   "cell_type": "code",
   "execution_count": 10,
   "id": "d3e54af3",
   "metadata": {},
   "outputs": [
    {
     "name": "stdout",
     "output_type": "stream",
     "text": [
      "enter the string:- 120120201202012021021\n",
      "No it is not binary\n"
     ]
    }
   ],
   "source": [
    "def check_binary(string):\n",
    "    p = set(string)\n",
    "    \n",
    "    s = {'0','1'}\n",
    "    if (p==s) or (p=={'0'}) or (p=={'1'}):\n",
    "        print(\"Yes it is a binary\")\n",
    "    else:\n",
    "        print(\"No it is not binary\")\n",
    "\n",
    "string = input(\"enter the string:- \")\n",
    "check_binary(string)"
   ]
  },
  {
   "cell_type": "markdown",
   "id": "aa142d85",
   "metadata": {},
   "source": [
    "## 5.\tWrite a Python program to find uncommon words from two Strings?"
   ]
  },
  {
   "cell_type": "code",
   "execution_count": 11,
   "id": "e7a08646",
   "metadata": {},
   "outputs": [
    {
     "name": "stdout",
     "output_type": "stream",
     "text": [
      "enter the 1st stringhello my name is sharath\n",
      "enter the 2nd stringhello hello \n",
      "['my', 'name', 'is', 'sharath']\n"
     ]
    }
   ],
   "source": [
    "def UncommonWords(string1, string2):\n",
    "    count = {}\n",
    "    for word in string1.split():\n",
    "        count[word] = count.get(word, 0) + 1\n",
    "    for word in string2.split():\n",
    "        count[word] = count.get(word, 0) + 1\n",
    "    return [word for word in count if count[word] == 1]\n",
    "A = input(\"enter the 1st string:- \")\n",
    "B = input(\"enter the 2nd string:- \")\n",
    "print(UncommonWords(A, B))"
   ]
  },
  {
   "cell_type": "markdown",
   "id": "529bc62d",
   "metadata": {},
   "source": [
    "## 6.\tWrite a Python to find all duplicate characters in string?"
   ]
  },
  {
   "cell_type": "code",
   "execution_count": 20,
   "id": "c434485f",
   "metadata": {},
   "outputs": [
    {
     "name": "stdout",
     "output_type": "stream",
     "text": [
      "enter the stringhuuu##@@\n",
      "Duplicate characters in a given string: \n",
      "u\n",
      "#\n",
      "@\n"
     ]
    }
   ],
   "source": [
    "string = input(\"enter the string\") \n",
    "   \n",
    "print(\"Duplicate characters in a given string: \");  \n",
    "for i in range(0, len(string)):  \n",
    "    count = 1  \n",
    "    for j in range(i+1, len(string)):  \n",
    "        if(string[i] == string[j] and string[i] != ' '):  \n",
    "            count = count + 1  \n",
    "            string = string[:j] + '0' + string[j+1:]  \n",
    "   \n",
    "    #A character is considered as duplicate if count is greater than 1  \n",
    "    if(count > 1 and string[i] != '0'):  \n",
    "        print(string[i])  "
   ]
  },
  {
   "cell_type": "markdown",
   "id": "5ad8ae8f",
   "metadata": {},
   "source": [
    "## 7.\tWrite a Python Program to check if a string contains any special character?"
   ]
  },
  {
   "cell_type": "code",
   "execution_count": 21,
   "id": "e57f3c93",
   "metadata": {
    "scrolled": true
   },
   "outputs": [
    {
     "name": "stdout",
     "output_type": "stream",
     "text": [
      "enter th stringhuhuh$@#\n",
      "String is not accepted.\n"
     ]
    }
   ],
   "source": [
    "import re\n",
    "def run(string):\n",
    "    regex = re.compile('[@_!#$%^&*()<>?/\\|}{~:]')\n",
    "\n",
    "    if(regex.search(string) == None):\n",
    "        print(\"String is accepted\")\n",
    "    else:\n",
    "        print(\"String is not accepted.\")\n",
    "\n",
    "string = input(\"enter th string\")\n",
    "run(string)\n"
   ]
  },
  {
   "cell_type": "code",
   "execution_count": null,
   "id": "e91e1cb3",
   "metadata": {},
   "outputs": [],
   "source": []
  }
 ],
 "metadata": {
  "kernelspec": {
   "display_name": "Python 3 (ipykernel)",
   "language": "python",
   "name": "python3"
  },
  "language_info": {
   "codemirror_mode": {
    "name": "ipython",
    "version": 3
   },
   "file_extension": ".py",
   "mimetype": "text/x-python",
   "name": "python",
   "nbconvert_exporter": "python",
   "pygments_lexer": "ipython3",
   "version": "3.9.7"
  }
 },
 "nbformat": 4,
 "nbformat_minor": 5
}
