{
 "cells": [
  {
   "cell_type": "markdown",
   "id": "aa947131",
   "metadata": {},
   "source": [
    "# Programming assignment 12"
   ]
  },
  {
   "cell_type": "markdown",
   "id": "28b90660",
   "metadata": {},
   "source": [
    "## 1.\tWrite a Python program to Extract Unique values dictionary values?"
   ]
  },
  {
   "cell_type": "code",
   "execution_count": 10,
   "id": "e9de820b",
   "metadata": {},
   "outputs": [
    {
     "name": "stdout",
     "output_type": "stream",
     "text": [
      "Enter the number of elements:- 4\n",
      "enter the elements in key value fashion. e.g:- key value  1 abcd\n",
      "enter the elements in key value fashion. e.g:- key value  2 efgh\n",
      "enter the elements in key value fashion. e.g:- key value  3 ijkl\n",
      "enter the elements in key value fashion. e.g:- key value  4 mnop\n",
      "Before extracting:-  {'1': 'abcd', '2': 'efgh', '3': 'ijkl', '4': 'mnop'}\n",
      "After extraction:-  ['a', 'b', 'c', 'd', 'e', 'f', 'g', 'h', 'i', 'j', 'k', 'l', 'm', 'n', 'o', 'p']\n"
     ]
    }
   ],
   "source": [
    "n = int(input(\"Enter the number of elements:- \"))\n",
    "d = dict(input(\"enter the elements in key value fashion. e.g:- key value  \").split(\" \") for _ in range(n))\n",
    "\n",
    "print(\"Before extracting:- \",end=\" \")\n",
    "print(d)\n",
    "\n",
    "res = list(sorted({ele for val in d.values() for ele in val}))\n",
    "print(\"After extraction:- \",end=\" \")\n",
    "print(res)"
   ]
  },
  {
   "cell_type": "markdown",
   "id": "5cc4dacf",
   "metadata": {},
   "source": [
    "## 2.\tWrite a Python program to find the sum of all items in a dictionary?"
   ]
  },
  {
   "cell_type": "code",
   "execution_count": 13,
   "id": "5fcc4697",
   "metadata": {},
   "outputs": [
    {
     "name": "stdout",
     "output_type": "stream",
     "text": [
      "enter the number of elements:- 4\n",
      "enter the key:- ab\n",
      "enter the value and it should be integer:- 2\n",
      "enter the key:- cd\n",
      "enter the value and it should be integer:- 3\n",
      "enter the key:- ef\n",
      "enter the value and it should be integer:- 4\n",
      "enter the key:- gh\n",
      "enter the value and it should be integer:- 5\n",
      "Sum of the keys is 14\n"
     ]
    }
   ],
   "source": [
    "def sum_of_items(dictionary):\n",
    "    list = []\n",
    "    for i in dictionary:\n",
    "        list.append(dictionary[i])\n",
    "    final = sum(list)\n",
    "    return final\n",
    "\n",
    "\n",
    "dictionary = {}\n",
    "keys =[]\n",
    "values = []\n",
    "n = int(input(\"enter the number of elements:- \"))\n",
    "for i in range(n):\n",
    "    n1 = input(\"enter the key:- \")\n",
    "    n2 = int(input(\"enter the value and it should be integer:- \"))\n",
    "    keys.append(n1)\n",
    "    values.append(n2)\n",
    "dictionary = {keys[i]: values[i] for i in range(len(keys))}\n",
    "\n",
    "result = sum_of_items(dictionary)\n",
    "print(\"Sum of the keys is \"+str(result))\n"
   ]
  },
  {
   "cell_type": "markdown",
   "id": "a088dd48",
   "metadata": {},
   "source": [
    "## 3.\tWrite a Python program to Merging two Dictionaries?"
   ]
  },
  {
   "cell_type": "code",
   "execution_count": 22,
   "id": "d43881d2",
   "metadata": {
    "scrolled": true
   },
   "outputs": [
    {
     "name": "stdout",
     "output_type": "stream",
     "text": [
      "Enter the number of elements:- 2\n",
      "enter the elements in key value fashion. e.g:- key value  abcd 10\n",
      "enter the elements in key value fashion. e.g:- key value  efgh 20\n",
      "Enter the number of elements:- 3\n",
      "enter the elements in key value fashion. e.g:- key value  ijkl 40\n",
      "enter the elements in key value fashion. e.g:- key value  mnop 30\n",
      "enter the elements in key value fashion. e.g:- key value  qrst 100\n",
      "Before merging:- \n",
      "{'abcd': '10', 'efgh': '20'}\n",
      "{'ijkl': '40', 'mnop': '30', 'qrst': '100'}\n",
      "After merging:- \n",
      "{'abcd': '10', 'efgh': '20', 'ijkl': '40', 'mnop': '30', 'qrst': '100'}\n"
     ]
    }
   ],
   "source": [
    "def merge(dict1,dict2):\n",
    "    return dict1.update(dict2)\n",
    "\n",
    "n1 = int(input(\"Enter the number of elements:- \"))\n",
    "d1 = dict(input(\"enter the elements in key value fashion. e.g:- key value  \").split(\" \") for _ in range(n1))\n",
    "n2 = int(input(\"Enter the number of elements:- \"))\n",
    "d2 = dict(input(\"enter the elements in key value fashion. e.g:- key value  \").split(\" \") for _ in range(n2))\n",
    "print(\"Before merging:- \")\n",
    "print(d1)\n",
    "print(d2)\n",
    "print(\"After merging:- \")\n",
    "merge(d1,d2)\n",
    "print(d1)"
   ]
  },
  {
   "cell_type": "markdown",
   "id": "effe0582",
   "metadata": {},
   "source": [
    "## 4.\tWrite a Python program to convert key-values list to flat dictionary?`"
   ]
  },
  {
   "cell_type": "code",
   "execution_count": 23,
   "id": "d562b943",
   "metadata": {},
   "outputs": [
    {
     "name": "stdout",
     "output_type": "stream",
     "text": [
      "The original dictionary is : {'month': [1, 2, 3], 'name': ['Jan', 'Feb', 'March']}\n",
      "Flattened dictionary : {1: 'Jan', 2: 'Feb', 3: 'March'}\n"
     ]
    }
   ],
   "source": [
    "from itertools import product\n",
    "test_dict = {'month' : [1, 2, 3],\n",
    "             'name' : ['Jan', 'Feb', 'March']}\n",
    "print(\"The original dictionary is : \" + str(test_dict))\n",
    "res = dict(zip(test_dict['month'], test_dict['name']))\n",
    "print(\"Flattened dictionary : \" + str(res)) "
   ]
  },
  {
   "cell_type": "markdown",
   "id": "90d1ff19",
   "metadata": {},
   "source": [
    "## 5.\tWrite a Python program to insertion at the beginning in OrderedDict?"
   ]
  },
  {
   "cell_type": "code",
   "execution_count": 5,
   "id": "10041946",
   "metadata": {},
   "outputs": [
    {
     "name": "stdout",
     "output_type": "stream",
     "text": [
      "dictionary exists\n",
      "Enter the key:- 4\n",
      "enter the value:- 3\n",
      "Resultant Dictionary : OrderedDict([('4', '3'), ('3', '1')])\n"
     ]
    }
   ],
   "source": [
    "from collections import OrderedDict\n",
    "\n",
    "def beginning(dict):\n",
    "    key = input(\"Enter the key:- \")\n",
    "    value = input(\"enter the value:- \")\n",
    "    dict.update({key:value})\n",
    "    dict.move_to_end(key, last=False)\n",
    "    print (\"Resultant Dictionary : \"+str(dict))\n",
    "\n",
    "try:\n",
    "    print(\"dictionary exists\")\n",
    "    beginning(ordered_dict)\n",
    "except:\n",
    "    print(\"dictionary doesnt exist\")\n",
    "    ordered_dict = OrderedDict()\n",
    "    print(\"dictionary created\")\n",
    "    beginning(ordered_dict)"
   ]
  },
  {
   "cell_type": "markdown",
   "id": "9e79b2a0",
   "metadata": {},
   "source": [
    "## 6.\tWrite a Python program to check order of character in string using OrderedDict()?"
   ]
  },
  {
   "cell_type": "code",
   "execution_count": 3,
   "id": "24a7111e",
   "metadata": {},
   "outputs": [
    {
     "name": "stdout",
     "output_type": "stream",
     "text": [
      "Enter the string:- hello\n",
      "enter the pattern:- hel\n",
      "True\n"
     ]
    }
   ],
   "source": [
    "from collections import OrderedDict \n",
    "def checkOrder(input, pattern): \n",
    "    dict = OrderedDict.fromkeys(input) \n",
    "    ptrlen = 0\n",
    "    for key,value in dict.items(): \n",
    "        if (key == pattern[ptrlen]): \n",
    "            ptrlen = ptrlen + 1\n",
    "        if (ptrlen == (len(pattern))): \n",
    "            return True\n",
    "    return False\n",
    "\n",
    "string1 = input(\"Enter the string:- \")\n",
    "pattern = input(\"enter the pattern:- \")\n",
    "print (checkOrder(string1,pattern)) "
   ]
  },
  {
   "cell_type": "markdown",
   "id": "4e679d58",
   "metadata": {},
   "source": [
    "## 7.\tWrite a Python program to sort Python Dictionaries by Key or Value?"
   ]
  },
  {
   "cell_type": "code",
   "execution_count": 8,
   "id": "e80c1e12",
   "metadata": {},
   "outputs": [
    {
     "name": "stdout",
     "output_type": "stream",
     "text": [
      "enter the number of elements:- 4\n",
      "Enter the key:- 1\n",
      "enter the value:- 2\n",
      "Enter the key:- 3\n",
      "enter the value:- 4\n",
      "Enter the key:- 5\n",
      "enter the value:- 6\n",
      "Enter the key:- 7\n",
      "enter the value:- 8\n",
      "====== Menu======\n",
      "1. sort on the basis of key \n",
      "2. sort on the basis of value \n",
      "enter the choice 3\n",
      "exit\n"
     ]
    }
   ],
   "source": [
    "def by_value(dictionary):\n",
    "    print(sorted(dictionary.items(), key = lambda kv:(kv[1], kv[0])))\n",
    "\n",
    "def by_key(dictionary):\n",
    "    for i in sorted (dictionary) :\n",
    "        print ((i, dictionary[i]), end =\" \")\n",
    "        \n",
    "def main():\n",
    "    dict = {}\n",
    "    n = int(input(\"enter the number of elements:- \"))\n",
    "    for i in range(n):\n",
    "        key = int(input(\"Enter the key:- \"))\n",
    "        value = int(input(\"enter the value:- \"))\n",
    "        dict[key] = value\n",
    "    print(\"====== Menu======\")\n",
    "    print(\"1. sort on the basis of key \")\n",
    "    print(\"2. sort on the basis of value \")\n",
    "    n = int(input(\"enter the choice \"))\n",
    "    if n==1:\n",
    "        by_key(dict)\n",
    "        main()\n",
    "    elif n==2:\n",
    "        by_value(dict)\n",
    "        main()\n",
    "    else:\n",
    "        print(\"exit\")\n",
    "main()"
   ]
  },
  {
   "cell_type": "markdown",
   "id": "721073d0",
   "metadata": {},
   "source": [
    "<h1><center> End of the Assignment </h1></center>"
   ]
  }
 ],
 "metadata": {
  "kernelspec": {
   "display_name": "Python 3 (ipykernel)",
   "language": "python",
   "name": "python3"
  },
  "language_info": {
   "codemirror_mode": {
    "name": "ipython",
    "version": 3
   },
   "file_extension": ".py",
   "mimetype": "text/x-python",
   "name": "python",
   "nbconvert_exporter": "python",
   "pygments_lexer": "ipython3",
   "version": "3.9.7"
  }
 },
 "nbformat": 4,
 "nbformat_minor": 5
}
