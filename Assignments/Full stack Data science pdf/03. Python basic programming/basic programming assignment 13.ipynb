{
 "cells": [
  {
   "cell_type": "markdown",
   "id": "aa947131",
   "metadata": {},
   "source": [
    "# Programming assignment 13"
   ]
  },
  {
   "cell_type": "markdown",
   "id": "21b63b1e",
   "metadata": {},
   "source": [
    "## 1. Write a program that calculates and prints the value according to the given formula: Q = Square root of [(2 * C * D)/H]\n",
    "### Following are the fixed values of C and H:\n",
    "#### C is 50. H is 30. D is the variable whose values should be input to your program in a comma-separated sequence.\n",
    "##### Example\n",
    "##### Let us assume the following comma separated input sequence is given to the program:\n",
    "##### 100,150,180\n",
    "##### The output of the program should be: 18,22,24"
   ]
  },
  {
   "cell_type": "code",
   "execution_count": 13,
   "id": "4187715a",
   "metadata": {},
   "outputs": [
    {
     "name": "stdout",
     "output_type": "stream",
     "text": [
      "enter the value:- 100,150,180,240\n",
      "[18, 22, 24, 28]\n"
     ]
    }
   ],
   "source": [
    "import math\n",
    "Q = []\n",
    "D = list(map(int,input(\"enter the value:- \").split(\",\")))\n",
    "H = 30\n",
    "C = 50\n",
    "for i in range(len(D)):\n",
    "    multiply = 2*C*D[i]\n",
    "    Q_init = int(round(math.sqrt(multiply/H),0))\n",
    "    Q.append(Q_init)\n",
    "print(Q)"
   ]
  },
  {
   "cell_type": "markdown",
   "id": "edb7ba20",
   "metadata": {},
   "source": [
    "## 2. Write a program which takes 2 digits, X,Y as input and generates a 2-dimensional array. The element value in the i-th row and j-th column of the array should be i*j.\n",
    "\n",
    "### Note: i=0,1.., X-1; j=0,1,¡¬Y-1.\n",
    "### Example\n",
    "#### Suppose the following inputs are given to the program:\n",
    "#### 3,5\n",
    "#### Then, the output of the program should be:\n",
    "#### [[0, 0, 0, 0, 0], [0, 1, 2, 3, 4], [0, 2, 4, 6, 8]] \n"
   ]
  },
  {
   "cell_type": "code",
   "execution_count": 17,
   "id": "fbe45138",
   "metadata": {},
   "outputs": [
    {
     "name": "stdout",
     "output_type": "stream",
     "text": [
      "enter the two digits seperated by comma:- 3,5\n",
      "[[0, 0, 0, 0, 0], [0, 1, 2, 3, 4], [0, 2, 4, 6, 8]]\n"
     ]
    }
   ],
   "source": [
    "user = input(\"enter the two digits seperated by comma:- \").split(\",\")\n",
    "row = int(user[0])\n",
    "column = int(user[1])\n",
    "\n",
    "output = []\n",
    "for x in range(row):\n",
    "    rows = [] \n",
    "    for y in range(column):\n",
    "        rows.append(x*y)\n",
    "    output.append(rows)\n",
    "\n",
    "print(output)"
   ]
  },
  {
   "cell_type": "markdown",
   "id": "96ba64e5",
   "metadata": {},
   "source": [
    "## Question 3:\n",
    "### Write a program that accepts a comma separated sequence of words as input and prints the words in a comma-separated sequence after sorting them alphabetically.\n",
    "#### Suppose the following input is supplied to the program:\n",
    "##### without,hello,bag,world\n",
    "##### Then, the output should be:\n",
    "##### bag,hello,without,world"
   ]
  },
  {
   "cell_type": "code",
   "execution_count": 6,
   "id": "d6690802",
   "metadata": {},
   "outputs": [
    {
     "name": "stdout",
     "output_type": "stream",
     "text": [
      "Enter the string with comma:- without,hello,bag,world\n",
      "['bag', 'hello', 'without', 'world']\n",
      "bag,hello,without,world\n"
     ]
    }
   ],
   "source": [
    "n = list(input('Enter the string with comma:- ').split(\",\"))\n",
    "final_1 = sorted(n)\n",
    "print(final_1)\n",
    "final = ','.join(final_1)\n",
    "print(final)"
   ]
  },
  {
   "cell_type": "markdown",
   "id": "376b970b",
   "metadata": {},
   "source": [
    "## Question 4:\n",
    "#### Write a program that accepts a sequence of whitespace separated words as input and prints the words after removing all duplicate words and sorting them alphanumerically.\n",
    "##### Suppose the following input is supplied to the program:\n",
    "##### hello world and practice makes perfect and hello world again\n",
    "##### Then, the output should be:   again and hello makes perfect practice world"
   ]
  },
  {
   "cell_type": "code",
   "execution_count": 11,
   "id": "275d12af",
   "metadata": {},
   "outputs": [
    {
     "name": "stdout",
     "output_type": "stream",
     "text": [
      "Enter the words with spaces:- hello world and practice makes perfect and hello world again\n",
      "again and hello makes perfect practice world\n"
     ]
    }
   ],
   "source": [
    "n = list(set(input(\"Enter the words with spaces:- \").split(\" \")))\n",
    "final = ' '.join(sorted(n))\n",
    "print(final)"
   ]
  },
  {
   "cell_type": "markdown",
   "id": "cc04f6ab",
   "metadata": {},
   "source": [
    "## Question 5:\n",
    "Write a program that accepts a sentence and calculate the number of letters and digits.\n",
    "\n",
    "Suppose the following input is supplied to the program:\n",
    "\n",
    "hello world! 123\n",
    "\n",
    "Then, the output should be:\n",
    "\n",
    "LETTERS 10\n",
    "\n",
    "\n",
    "DIGITS 3\n"
   ]
  },
  {
   "cell_type": "code",
   "execution_count": 14,
   "id": "f617cfe3",
   "metadata": {},
   "outputs": [
    {
     "name": "stdout",
     "output_type": "stream",
     "text": [
      "enter the string:- hello world! 123\n",
      "LETTERS  10\n",
      "DIGITS  3\n"
     ]
    }
   ],
   "source": [
    "user = input(\"enter the string:- \")\n",
    "user = list(user)\n",
    "\n",
    "l,d = 0,0\n",
    "for i in user:\n",
    "    if i.isdigit():\n",
    "        d+=1\n",
    "    elif i.isalpha():\n",
    "        l+=1\n",
    "\n",
    "print(\"LETTERS \",l)\n",
    "print(\"DIGITS \",d)"
   ]
  },
  {
   "cell_type": "markdown",
   "id": "a32d37ec",
   "metadata": {},
   "source": [
    "## Question 6:\n",
    "A website requires the users to input username and password to register. Write a program to check the validity of password input by users.\n",
    "\n",
    "Following are the criteria for checking the password:\n",
    "\n",
    "1. At least 1 letter between [a-z]\n",
    "\n",
    "2. At least 1 number between [0-9]\n",
    "\n",
    "1. At least 1 letter between [A-Z]\n",
    "\n",
    "3. At least 1 character from [$#@]\n",
    "\n",
    "4. Minimum length of transaction password: 6\n",
    "\n",
    "5. Maximum length of transaction password: 12\n",
    "\n",
    "Your program should accept a sequence of comma separated passwords and will check them according to the above criteria. Passwords that match the criteria are to be printed, each separated by a comma.\n",
    "\n",
    "Example\n",
    "\n",
    "If the following passwords are given as input to the program:\n",
    "\n",
    "ABd1234@1,a F1#,2w3E*,2We3345\n",
    "\n",
    "Then, the output of the program should be:\n",
    "\n",
    "ABd1234@1\n"
   ]
  },
  {
   "cell_type": "code",
   "execution_count": 15,
   "id": "45ac9550",
   "metadata": {},
   "outputs": [
    {
     "name": "stdout",
     "output_type": "stream",
     "text": [
      "Type in: ABd1234@1,a F1#,2w3E*,2We3345\n",
      "ABd1234@1\n"
     ]
    }
   ],
   "source": [
    "import re\n",
    "\n",
    "passwords = input(\"Type in: \")\n",
    "passwords = passwords.split(\",\")\n",
    "\n",
    "accepted_pass = []\n",
    "for i in passwords:\n",
    "    \n",
    "    if len(i) < 6 or len(i) > 12:\n",
    "        continue\n",
    "\n",
    "    elif not re.search(\"([a-z])+\", i):\n",
    "        continue\n",
    "\n",
    "    elif not re.search(\"([A-Z])+\", i):\n",
    "        continue\n",
    "\n",
    "    elif not re.search(\"([0-9])+\", i):\n",
    "        continue\n",
    "\n",
    "    elif not re.search(\"([!@$%^&])+\", i):\n",
    "        continue\n",
    "\n",
    "    else:\n",
    "        accepted_pass.append(i)\n",
    "\n",
    "print((\" \").join(accepted_pass))"
   ]
  },
  {
   "cell_type": "markdown",
   "id": "721073d0",
   "metadata": {},
   "source": [
    "<h1><center> End of the Assignment "
   ]
  }
 ],
 "metadata": {
  "kernelspec": {
   "display_name": "Python 3 (ipykernel)",
   "language": "python",
   "name": "python3"
  },
  "language_info": {
   "codemirror_mode": {
    "name": "ipython",
    "version": 3
   },
   "file_extension": ".py",
   "mimetype": "text/x-python",
   "name": "python",
   "nbconvert_exporter": "python",
   "pygments_lexer": "ipython3",
   "version": "3.9.7"
  }
 },
 "nbformat": 4,
 "nbformat_minor": 5
}
